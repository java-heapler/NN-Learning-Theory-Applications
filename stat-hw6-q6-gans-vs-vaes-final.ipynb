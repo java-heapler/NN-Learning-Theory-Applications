{
 "cells": [
  {
   "cell_type": "markdown",
   "metadata": {},
   "source": [
    "## Problem 6: U GANS vs VAEs on Fashion MNIST"
   ]
  },
  {
   "cell_type": "code",
   "execution_count": 1,
   "metadata": {
    "execution": {
     "iopub.execute_input": "2023-05-08T15:37:45.700158Z",
     "iopub.status.busy": "2023-05-08T15:37:45.699818Z",
     "iopub.status.idle": "2023-05-08T15:37:48.674570Z",
     "shell.execute_reply": "2023-05-08T15:37:48.673671Z",
     "shell.execute_reply.started": "2023-05-08T15:37:45.700127Z"
    }
   },
   "outputs": [],
   "source": [
    "import torch\n",
    "import torch.nn as nn\n",
    "import torchvision.datasets as dsets\n",
    "import torchvision.transforms as transforms\n",
    "import random\n",
    "import numpy as np"
   ]
  },
  {
   "cell_type": "code",
   "execution_count": 2,
   "metadata": {
    "_cell_guid": "b1076dfc-b9ad-4769-8c92-a6c4dae69d19",
    "_uuid": "8f2839f25d086af736a60e9eeb907d3b93b6e0e5",
    "execution": {
     "iopub.execute_input": "2023-05-08T15:37:52.737829Z",
     "iopub.status.busy": "2023-05-08T15:37:52.737257Z",
     "iopub.status.idle": "2023-05-08T15:38:00.721729Z",
     "shell.execute_reply": "2023-05-08T15:38:00.720838Z",
     "shell.execute_reply.started": "2023-05-08T15:37:52.737794Z"
    }
   },
   "outputs": [
    {
     "name": "stdout",
     "output_type": "stream",
     "text": [
      "Downloading http://fashion-mnist.s3-website.eu-central-1.amazonaws.com/train-images-idx3-ubyte.gz\n",
      "Downloading http://fashion-mnist.s3-website.eu-central-1.amazonaws.com/train-images-idx3-ubyte.gz to ./data/FashionMNIST/raw/train-images-idx3-ubyte.gz\n"
     ]
    },
    {
     "name": "stderr",
     "output_type": "stream",
     "text": [
      "100%|██████████| 26421880/26421880 [00:01<00:00, 17426852.33it/s]\n"
     ]
    },
    {
     "name": "stdout",
     "output_type": "stream",
     "text": [
      "Extracting ./data/FashionMNIST/raw/train-images-idx3-ubyte.gz to ./data/FashionMNIST/raw\n",
      "\n",
      "Downloading http://fashion-mnist.s3-website.eu-central-1.amazonaws.com/train-labels-idx1-ubyte.gz\n",
      "Downloading http://fashion-mnist.s3-website.eu-central-1.amazonaws.com/train-labels-idx1-ubyte.gz to ./data/FashionMNIST/raw/train-labels-idx1-ubyte.gz\n"
     ]
    },
    {
     "name": "stderr",
     "output_type": "stream",
     "text": [
      "100%|██████████| 29515/29515 [00:00<00:00, 295813.24it/s]\n"
     ]
    },
    {
     "name": "stdout",
     "output_type": "stream",
     "text": [
      "Extracting ./data/FashionMNIST/raw/train-labels-idx1-ubyte.gz to ./data/FashionMNIST/raw\n",
      "\n",
      "Downloading http://fashion-mnist.s3-website.eu-central-1.amazonaws.com/t10k-images-idx3-ubyte.gz\n",
      "Downloading http://fashion-mnist.s3-website.eu-central-1.amazonaws.com/t10k-images-idx3-ubyte.gz to ./data/FashionMNIST/raw/t10k-images-idx3-ubyte.gz\n"
     ]
    },
    {
     "name": "stderr",
     "output_type": "stream",
     "text": [
      "100%|██████████| 4422102/4422102 [00:00<00:00, 5507208.71it/s]\n"
     ]
    },
    {
     "name": "stdout",
     "output_type": "stream",
     "text": [
      "Extracting ./data/FashionMNIST/raw/t10k-images-idx3-ubyte.gz to ./data/FashionMNIST/raw\n",
      "\n",
      "Downloading http://fashion-mnist.s3-website.eu-central-1.amazonaws.com/t10k-labels-idx1-ubyte.gz\n",
      "Downloading http://fashion-mnist.s3-website.eu-central-1.amazonaws.com/t10k-labels-idx1-ubyte.gz to ./data/FashionMNIST/raw/t10k-labels-idx1-ubyte.gz\n"
     ]
    },
    {
     "name": "stderr",
     "output_type": "stream",
     "text": [
      "100%|██████████| 5148/5148 [00:00<00:00, 22398627.59it/s]\n"
     ]
    },
    {
     "name": "stdout",
     "output_type": "stream",
     "text": [
      "Extracting ./data/FashionMNIST/raw/t10k-labels-idx1-ubyte.gz to ./data/FashionMNIST/raw\n",
      "\n"
     ]
    }
   ],
   "source": [
    "# Train a vanilla GAN and Variational Autoencoder (VAE) on the Fashion MNIST dataset using PyTorch. \n",
    "# We use a simple architecture consisting of fully connected layers for both the generator and discriminator of the GAN, \n",
    "# and fully connected layers for the encoder and decoder of the VAE.\n",
    "\n",
    "# Set seed for reproducibility\n",
    "random.seed(0)\n",
    "torch.manual_seed(0)\n",
    "\n",
    "# Set device to GPU if available, otherwise use CPU\n",
    "device = torch.device('cuda' if torch.cuda.is_available() else 'cpu')\n",
    "\n",
    "# Define transform to normalize the data\n",
    "transform = transforms.Compose([\n",
    "    transforms.ToTensor(),\n",
    "    transforms.Normalize(mean=(0.5,), std=(0.5,))\n",
    "])\n",
    "\n",
    "# Load Fashion MNIST dataset\n",
    "full_dataset = dsets.FashionMNIST(root='./data', train=True, transform=transform, download=True)\n",
    "\n",
    "# Sample a subset of 30000 examples from the full dataset for GAN model training\n",
    "subset_indices = random.sample(range(len(full_dataset)), 30000)\n",
    "subset = torch.utils.data.Subset(full_dataset, subset_indices)\n",
    "train_loader = torch.utils.data.DataLoader(subset, batch_size=64, shuffle=True)\n",
    "\n",
    "# Next, define the generator and discriminator for the GAN\n",
    "# Define the generator for the GAN\n",
    "class Generator(nn.Module):\n",
    "    def __init__(self, latent_dim, img_shape):\n",
    "        super(Generator, self).__init__()\n",
    "        self.img_shape = img_shape\n",
    "        self.model = nn.Sequential(\n",
    "            nn.Linear(latent_dim, 256),\n",
    "            nn.LeakyReLU(0.2),\n",
    "            nn.Linear(256, 512),\n",
    "            nn.LeakyReLU(0.2),\n",
    "            nn.Linear(512, 1024),\n",
    "            nn.LeakyReLU(0.2),\n",
    "            nn.Linear(1024, int(np.prod(img_shape))),\n",
    "            nn.Tanh()\n",
    "        )\n",
    "\n",
    "    def forward(self, z):\n",
    "        img = self.model(z)\n",
    "        img = img.view(img.size(0), *self.img_shape)\n",
    "        return img\n",
    "\n",
    "# Define the discriminator for the GAN\n",
    "class Discriminator(nn.Module):\n",
    "    def __init__(self, img_shape):\n",
    "        super(Discriminator, self).__init__()\n",
    "        self.img_shape = img_shape\n",
    "        self.model = nn.Sequential(\n",
    "            nn.Linear(int(np.prod(img_shape)), 512),\n",
    "            nn.LeakyReLU(0.2),\n",
    "            nn.Linear(512, 256),\n",
    "            nn.LeakyReLU(0.2),\n",
    "            nn.Linear(256, 1),\n",
    "            nn.Sigmoid()\n",
    "        )\n",
    "\n",
    "    def forward(self, img):\n",
    "        img_flat = img.view(img.size(0), -1)\n",
    "        validity = self.model(img_flat)\n",
    "        return validity\n",
    "\n",
    "#### define the encoder and decoder for the VAE:\n",
    "# Define the encoder for the VAE\n",
    "class Encoder(nn.Module):\n",
    "    def __init__(self, latent_dim, img_shape):\n",
    "        super(Encoder, self).__init__()\n",
    "        self.img_shape = img_shape\n",
    "        self.latent_dim = latent_dim\n",
    "        self.model = nn.Sequential(\n",
    "            nn.Linear(int(np.prod(img_shape)), 512),\n",
    "            nn.LeakyReLU(0.2),\n",
    "            nn.Linear(512, 256),\n",
    "            nn.LeakyReLU(0.2),\n",
    "        )\n",
    "        self.mean = nn.Linear(256, latent_dim)\n",
    "        self.logvar = nn.Linear(256, latent_dim)\n",
    "\n",
    "    def forward(self, img):\n",
    "        img_flat = img.view(img.size(0), -1)\n",
    "        x = self.model(img_flat)\n",
    "        mean = self.mean(x)\n",
    "        logvar = self.logvar(x)\n",
    "        return mean, logvar\n",
    "\n",
    "# Define the decoder for the VAE\n",
    "class Decoder(nn.Module):\n",
    "    def __init__(self, latent_dim, img_shape):\n",
    "        super(Decoder, self).__init__()\n",
    "        self.img_shape = img_shape\n",
    "        self.latent_dim = latent_dim\n",
    "        self.model = nn.Sequential(\n",
    "            nn.Linear(latent_dim, 256),\n",
    "            nn.LeakyReLU(0.2),\n",
    "            nn.Linear(256, 512),\n",
    "            nn.LeakyReLU(0.2),\n",
    "            nn.Linear(512, int(np.prod(img_shape))),\n",
    "            nn.Tanh()\n",
    "        )\n",
    "\n",
    "    def forward(self, z):\n",
    "        img = self.model(z)\n",
    "        img = img.view(img.size(0), *self.img_shape)\n",
    "        return img\n",
    "\n",
    "# Now, define the loss functions and optimizers for both the GAN and VAE\n",
    "# Define the loss function for the GAN\n",
    "adversarial_loss = nn.BCELoss()\n",
    "\n",
    "# Define the optimizers for the GAN\n",
    "generator = Generator(latent_dim=100, img_shape=(1, 28, 28)).to(device)\n",
    "discriminator = Discriminator(img_shape=(1, 28, 28)).to(device)\n",
    "optimizer_G = torch.optim.Adam(generator.parameters(), lr=0.0002, betas=(0.5, 0.999))\n",
    "optimizer_D = torch.optim.Adam(discriminator.parameters(), lr=0.0002, betas=(0.5, 0.999))\n",
    "\n",
    "# Define the loss function for the VAE\n",
    "def vae_loss(recon_x, x, mu, logvar):\n",
    "    recon_loss = nn.functional.binary_cross_entropy(recon_x, x, reduction='sum')\n",
    "    kl_divergence = -0.5 * torch.sum(1 + logvar - mu.pow(2) - logvar.exp())\n",
    "    return recon_loss + kl_divergence\n",
    "\n",
    "# Define the optimizers for the VAE\n",
    "encoder = Encoder(latent_dim=20, img_shape=(1, 28, 28)).to(device)\n",
    "decoder = Decoder(latent_dim=20, img_shape=(1, 28, 28)).to(device)\n",
    "optimizer_E = torch.optim.Adam(encoder.parameters(), lr=0.0002, betas=(0.5, 0.999))\n",
    "optimizer_D = torch.optim.Adam(decoder.parameters(), lr=0.0002, betas=(0.5, 0.999))"
   ]
  },
  {
   "cell_type": "markdown",
   "metadata": {},
   "source": [
    "# 1. GAN"
   ]
  },
  {
   "cell_type": "code",
   "execution_count": 3,
   "metadata": {
    "execution": {
     "iopub.execute_input": "2023-05-08T15:40:28.436692Z",
     "iopub.status.busy": "2023-05-08T15:40:28.436318Z",
     "iopub.status.idle": "2023-05-08T15:48:55.017380Z",
     "shell.execute_reply": "2023-05-08T15:48:55.016417Z",
     "shell.execute_reply.started": "2023-05-08T15:40:28.436655Z"
    }
   },
   "outputs": [
    {
     "name": "stdout",
     "output_type": "stream",
     "text": [
      "[Epoch 0/50] [D loss: 1.4324892055251197] [G loss: 0.13682059367010588]\n",
      "[Epoch 1/50] [D loss: 1.4577669050139406] [G loss: 0.12192705322875143]\n",
      "[Epoch 2/50] [D loss: 1.4590366120531615] [G loss: 0.12159822017017967]\n",
      "[Epoch 3/50] [D loss: 1.4598622777060406] [G loss: 0.12138495058901529]\n",
      "[Epoch 4/50] [D loss: 1.460305122678468] [G loss: 0.12127082966474582]\n",
      "[Epoch 5/50] [D loss: 1.4604163271531876] [G loss: 0.12124184120311411]\n",
      "[Epoch 6/50] [D loss: 1.4605141720537946] [G loss: 0.12121677559131244]\n",
      "[Epoch 7/50] [D loss: 1.460587620989346] [G loss: 0.1211980123922769]\n",
      "[Epoch 8/50] [D loss: 1.4606484421280657] [G loss: 0.1211818856502901]\n",
      "[Epoch 9/50] [D loss: 1.460689204842297] [G loss: 0.12117108500906146]\n",
      "[Epoch 10/50] [D loss: 1.460734852087269] [G loss: 0.12115970157039191]\n",
      "[Epoch 11/50] [D loss: 1.4607731253861873] [G loss: 0.1211500847771732]\n",
      "[Epoch 12/50] [D loss: 1.4608083518583383] [G loss: 0.12114163782042481]\n",
      "[Epoch 13/50] [D loss: 1.4608364949094208] [G loss: 0.12113421071948273]\n",
      "[Epoch 14/50] [D loss: 1.4608568151368262] [G loss: 0.121128178910533]\n",
      "[Epoch 15/50] [D loss: 1.4608839681661967] [G loss: 0.12112180091170614]\n",
      "[Epoch 16/50] [D loss: 1.4608997800456944] [G loss: 0.12111744624592348]\n",
      "[Epoch 17/50] [D loss: 1.460917717866552] [G loss: 0.12111258263717582]\n",
      "[Epoch 18/50] [D loss: 1.4609325923390988] [G loss: 0.1211088959977571]\n",
      "[Epoch 19/50] [D loss: 1.4609464386632955] [G loss: 0.12110515459895388]\n",
      "[Epoch 20/50] [D loss: 1.4609592179499709] [G loss: 0.1211022239313451]\n",
      "[Epoch 21/50] [D loss: 1.4609683955402009] [G loss: 0.12109959476601595]\n",
      "[Epoch 22/50] [D loss: 1.460978947468658] [G loss: 0.12109695085838659]\n",
      "[Epoch 23/50] [D loss: 1.4609881514933571] [G loss: 0.12109501172166898]\n",
      "[Epoch 24/50] [D loss: 1.4609949421018427] [G loss: 0.12109289281785107]\n",
      "[Epoch 25/50] [D loss: 1.4610021050804969] [G loss: 0.12109133671087496]\n",
      "[Epoch 26/50] [D loss: 1.4610086631164876] [G loss: 0.12108968544616373]\n",
      "[Epoch 27/50] [D loss: 1.461011698759441] [G loss: 0.12108859963127291]\n",
      "[Epoch 28/50] [D loss: 1.461016590915509] [G loss: 0.12108746809618813]\n",
      "[Epoch 29/50] [D loss: 1.4610179276354531] [G loss: 0.12108667417248684]\n",
      "[Epoch 30/50] [D loss: 1.4610261312171595] [G loss: 0.1210855711529504]\n",
      "[Epoch 31/50] [D loss: 1.4610282591919401] [G loss: 0.12108466264281446]\n",
      "[Epoch 32/50] [D loss: 1.4610280344989508] [G loss: 0.1210840764616344]\n",
      "[Epoch 33/50] [D loss: 1.461031642549836] [G loss: 0.1210834397467723]\n",
      "[Epoch 34/50] [D loss: 1.461035011673787] [G loss: 0.12108271870849484]\n",
      "[Epoch 35/50] [D loss: 1.461035698715812] [G loss: 0.12108232312873482]\n",
      "[Epoch 36/50] [D loss: 1.4610373584954723] [G loss: 0.12108188294080784]\n",
      "[Epoch 37/50] [D loss: 1.461040060657428] [G loss: 0.12108152092837576]\n",
      "[Epoch 38/50] [D loss: 1.4610415727599089] [G loss: 0.12108102496435393]\n",
      "[Epoch 39/50] [D loss: 1.4610442202736829] [G loss: 0.12108044032412552]\n",
      "[Epoch 40/50] [D loss: 1.4610421690605342] [G loss: 0.1210804258042307]\n",
      "[Epoch 41/50] [D loss: 1.461047242953579] [G loss: 0.12107967261248814]\n",
      "[Epoch 42/50] [D loss: 1.461047676580547] [G loss: 0.12107943293890719]\n",
      "[Epoch 43/50] [D loss: 1.4610490786241317] [G loss: 0.12107921577592902]\n",
      "[Epoch 44/50] [D loss: 1.4610505625129] [G loss: 0.12107893254266365]\n",
      "[Epoch 45/50] [D loss: 1.461050468975547] [G loss: 0.12107873383933293]\n",
      "[Epoch 46/50] [D loss: 1.461050630632494] [G loss: 0.12107848994004955]\n",
      "[Epoch 47/50] [D loss: 1.4610522655027507] [G loss: 0.12107825452394323]\n",
      "[Epoch 48/50] [D loss: 1.4610517307131021] [G loss: 0.12107794903425266]\n",
      "[Epoch 49/50] [D loss: 1.461054940721882] [G loss: 0.12107787985028996]\n"
     ]
    }
   ],
   "source": [
    "# Train the GAN model, save the model weights every 5 epochs into the 'gan_weights' folder. \n",
    "# Then, save the final model weights after training is complete.\n",
    "\n",
    "import os\n",
    "# Create a folder to save the model weights\n",
    "folder_path = 'gan_weights'\n",
    "if not os.path.exists(folder_path):\n",
    "    os.makedirs(folder_path)\n",
    "\n",
    "# Set the number of epochs and batch size\n",
    "num_epochs = 50\n",
    "batch_size = 1024\n",
    "\n",
    "# Initialize lists to store losses\n",
    "d_losses = []\n",
    "g_losses = []\n",
    "\n",
    "# Train the GAN\n",
    "for epoch in range(num_epochs):\n",
    "    d_loss_epoch = 0.0\n",
    "    g_loss_epoch = 0.0\n",
    "    for i, (imgs, _) in enumerate(train_loader):\n",
    "        # Adversarial ground truths\n",
    "        valid = torch.ones((batch_size, 1)).to(device)\n",
    "        fake = torch.zeros((batch_size, 1)).to(device)\n",
    "\n",
    "        # Train the discriminator\n",
    "        optimizer_D.zero_grad()\n",
    "        real_imgs = imgs.to(device)\n",
    "        fake_imgs = generator(torch.randn(batch_size, 100).to(device))\n",
    "        real_loss = adversarial_loss(discriminator(real_imgs), valid[:real_imgs.size(0), :])\n",
    "        fake_loss = adversarial_loss(discriminator(fake_imgs.detach()), fake[:fake_imgs.size(0), :])\n",
    "        d_loss = (real_loss + fake_loss) / 2\n",
    "        d_loss.backward()\n",
    "        optimizer_D.step()\n",
    "\n",
    "        # Train the generator\n",
    "        optimizer_G.zero_grad()\n",
    "        fake_imgs = generator(torch.randn(batch_size, 100).to(device))\n",
    "        g_loss = adversarial_loss(discriminator(fake_imgs), valid[:fake_imgs.size(0), :])\n",
    "        g_loss.backward()\n",
    "        optimizer_G.step()\n",
    "\n",
    "        # Update epoch losses\n",
    "        d_loss_epoch += d_loss.item()\n",
    "        g_loss_epoch += g_loss.item()\n",
    "\n",
    "    # Compute average losses for epoch\n",
    "    d_loss_epoch /= len(train_loader)\n",
    "    g_loss_epoch /= len(train_loader)\n",
    "\n",
    "    # Append losses to lists\n",
    "    d_losses.append(d_loss_epoch)\n",
    "    g_losses.append(g_loss_epoch)\n",
    "\n",
    "    # Print training progress at every epoch\n",
    "    print(f\"[Epoch {epoch}/{num_epochs}] [D loss: {d_loss_epoch}] [G loss: {g_loss_epoch}]\")\n",
    "\n",
    "    # Save model weights every 5 epochs into 'gan_weights' folder\n",
    "    if epoch % 5 == 0:\n",
    "        torch.save({\n",
    "            'generator': generator.state_dict(),\n",
    "            'discriminator': discriminator.state_dict(),\n",
    "            'optimizer_G': optimizer_G.state_dict(),\n",
    "            'optimizer_D': optimizer_D.state_dict(),\n",
    "        }, os.path.join(folder_path, f'gan_checkpoint_epoch_{epoch}.pth'))\n",
    "\n",
    "# Save final model weights into 'gan_weights' folder\n",
    "torch.save({\n",
    "    'generator': generator.state_dict(),\n",
    "    'discriminator': discriminator.state_dict(),\n",
    "    'optimizer_G': optimizer_G.state_dict(),\n",
    "    'optimizer_D': optimizer_D.state_dict(),\n",
    "}, os.path.join(folder_path, 'gan_final_weights.pth'))\n"
   ]
  },
  {
   "cell_type": "markdown",
   "metadata": {},
   "source": [
    "## 1.2 GAN loss plot"
   ]
  },
  {
   "cell_type": "code",
   "execution_count": 4,
   "metadata": {
    "execution": {
     "iopub.execute_input": "2023-05-08T15:48:55.019791Z",
     "iopub.status.busy": "2023-05-08T15:48:55.019467Z",
     "iopub.status.idle": "2023-05-08T15:48:55.264557Z",
     "shell.execute_reply": "2023-05-08T15:48:55.263515Z",
     "shell.execute_reply.started": "2023-05-08T15:48:55.019760Z"
    }
   },
   "outputs": [
    {
     "data": {
      "image/png": "[encoded data removed]",
      "text/plain": [
       "<Figure size 640x480 with 1 Axes>"
      ]
     },
     "metadata": {},
     "output_type": "display_data"
    }
   ],
   "source": [
    "# Plot losses\n",
    "import matplotlib.pyplot as plt\n",
    "\n",
    "plt.plot(range(num_epochs), d_losses, label='Discriminator loss')\n",
    "plt.plot(range(num_epochs), g_losses, label='Generator loss')\n",
    "plt.legend()\n",
    "plt.xlabel('Epoch')\n",
    "plt.ylabel('Loss')\n",
    "plt.show()"
   ]
  },
  {
   "cell_type": "markdown",
   "metadata": {},
   "source": [
    "## 1.3 Using GAN, generate a sample of 25 fake images and plot the corresponding images"
   ]
  },
  {
   "cell_type": "code",
   "execution_count": 7,
   "metadata": {
    "execution": {
     "iopub.execute_input": "2023-05-08T15:54:42.482507Z",
     "iopub.status.busy": "2023-05-08T15:54:42.482136Z",
     "iopub.status.idle": "2023-05-08T15:54:43.100311Z",
     "shell.execute_reply": "2023-05-08T15:54:43.099293Z",
     "shell.execute_reply.started": "2023-05-08T15:54:42.482475Z"
    }
   },
   "outputs": [
    {
     "data": {
      "image/png": "[encoded data removed]",
      "text/plain": [
       "<Figure size 800x800 with 25 Axes>"
      ]
     },
     "metadata": {},
     "output_type": "display_data"
    }
   ],
   "source": [
    "# Load the saved model weights\n",
    "checkpoint = torch.load(os.path.join(folder_path, 'gan_final_weights.pth'))\n",
    "generator.load_state_dict(checkpoint['generator'])\n",
    "\n",
    "# Generate a sample of 25 fake images\n",
    "with torch.no_grad():\n",
    "    z = torch.randn(25, 100).to(device)\n",
    "    fake_imgs = generator(z)\n",
    "\n",
    "# Convert the fake images to numpy arrays\n",
    "fake_imgs = fake_imgs.cpu().numpy()\n",
    "\n",
    "# Rescale the fake images from [-1, 1] to [0, 1]\n",
    "fake_imgs = (fake_imgs + 1) / 2\n",
    "\n",
    "# Plot the fake images\n",
    "fig, axs = plt.subplots(5, 5, figsize=(8, 8))\n",
    "for i in range(5):\n",
    "    for j in range(5):\n",
    "        axs[i, j].imshow(fake_imgs[i*5+j].reshape((28, 28)), cmap='gray')\n",
    "        axs[i, j].axis('off')\n",
    "plt.show()"
   ]
  },
  {
   "cell_type": "code",
   "execution_count": 1,
   "metadata": {
    "execution": {
     "iopub.execute_input": "2023-05-08T16:43:58.175385Z",
     "iopub.status.busy": "2023-05-08T16:43:58.175007Z",
     "iopub.status.idle": "2023-05-08T16:43:58.181058Z",
     "shell.execute_reply": "2023-05-08T16:43:58.180166Z",
     "shell.execute_reply.started": "2023-05-08T16:43:58.175355Z"
    }
   },
   "outputs": [],
   "source": [
    "## The vanilla GAN did not do a good job\n",
    "## Fake images from the generator show that the GAN did not learn from the data. There can be several reasons:\n",
    "## 1) The generator is stuck in a local minimum.\n",
    "## 2) There isn't a good balance between the generator and discriminator. The discriminator can be too strong \n",
    "# that no matter what the generator outputs, the discriminator is able to distinguish the real from the fake images.\n",
    "# Therefore, the generator is unable to improve.\n",
    "## 3) To improve, we may need to look into Wasserstein GAN (WGAN), and use regularization on the discriminator or generator \n",
    "# that is too strong in order balance out the training progress."
   ]
  },
  {
   "cell_type": "markdown",
   "metadata": {},
   "source": [
    "# 2. Variational Autoencoder"
   ]
  },
  {
   "cell_type": "code",
   "execution_count": 2,
   "metadata": {
    "execution": {
     "iopub.execute_input": "2023-05-08T15:22:34.543100Z",
     "iopub.status.busy": "2023-05-08T15:22:34.542575Z",
     "iopub.status.idle": "2023-05-08T15:34:55.360540Z",
     "shell.execute_reply": "2023-05-08T15:34:55.359398Z",
     "shell.execute_reply.started": "2023-05-08T15:22:34.543069Z"
    }
   },
   "outputs": [
    {
     "name": "stdout",
     "output_type": "stream",
     "text": [
      "[Epoch 0/50] [VAE loss: 5804.955906329124]\n",
      "[Epoch 1/50] [VAE loss: 4616.661853001316]\n",
      "[Epoch 2/50] [VAE loss: 4422.015665343067]\n",
      "[Epoch 3/50] [VAE loss: 4319.797353130414]\n",
      "[Epoch 4/50] [VAE loss: 4246.09870543002]\n",
      "[Epoch 5/50] [VAE loss: 4192.90337366946]\n",
      "[Epoch 6/50] [VAE loss: 4152.832818330224]\n",
      "[Epoch 7/50] [VAE loss: 4120.29134513676]\n",
      "[Epoch 8/50] [VAE loss: 4090.6985818500966]\n",
      "[Epoch 9/50] [VAE loss: 4068.9111203191633]\n",
      "[Epoch 10/50] [VAE loss: 4050.38137550598]\n",
      "[Epoch 11/50] [VAE loss: 4034.8337269602043]\n",
      "[Epoch 12/50] [VAE loss: 4014.3184101291813]\n",
      "[Epoch 13/50] [VAE loss: 4003.3298100388124]\n",
      "[Epoch 14/50] [VAE loss: 3992.539830319663]\n",
      "[Epoch 15/50] [VAE loss: 3981.6189534852247]\n",
      "[Epoch 16/50] [VAE loss: 3968.314207032291]\n",
      "[Epoch 17/50] [VAE loss: 3964.046532214069]\n",
      "[Epoch 18/50] [VAE loss: 3954.973526098581]\n",
      "[Epoch 19/50] [VAE loss: 3945.248815605635]\n",
      "[Epoch 20/50] [VAE loss: 3937.6452628910415]\n",
      "[Epoch 21/50] [VAE loss: 3930.096879971307]\n",
      "[Epoch 22/50] [VAE loss: 3927.541055968067]\n",
      "[Epoch 23/50] [VAE loss: 3924.578593500133]\n",
      "[Epoch 24/50] [VAE loss: 3912.9446916071847]\n",
      "[Epoch 25/50] [VAE loss: 3912.7934487023585]\n",
      "[Epoch 26/50] [VAE loss: 3907.6724254876567]\n",
      "[Epoch 27/50] [VAE loss: 3903.6979946632628]\n",
      "[Epoch 28/50] [VAE loss: 3897.96149605627]\n",
      "[Epoch 29/50] [VAE loss: 3893.20838586608]\n",
      "[Epoch 30/50] [VAE loss: 3891.419111630047]\n",
      "[Epoch 31/50] [VAE loss: 3887.4369989651354]\n",
      "[Epoch 32/50] [VAE loss: 3884.558365095907]\n",
      "[Epoch 33/50] [VAE loss: 3882.061797770356]\n",
      "[Epoch 34/50] [VAE loss: 3878.279879897388]\n",
      "[Epoch 35/50] [VAE loss: 3874.1861274247485]\n",
      "[Epoch 36/50] [VAE loss: 3872.9076666923474]\n",
      "[Epoch 37/50] [VAE loss: 3869.1922053030053]\n",
      "[Epoch 38/50] [VAE loss: 3864.3014880345067]\n",
      "[Epoch 39/50] [VAE loss: 3863.760433497968]\n",
      "[Epoch 40/50] [VAE loss: 3862.3503165499233]\n",
      "[Epoch 41/50] [VAE loss: 3859.4060346200777]\n",
      "[Epoch 42/50] [VAE loss: 3857.079953972465]\n",
      "[Epoch 43/50] [VAE loss: 3855.4955997426373]\n",
      "[Epoch 44/50] [VAE loss: 3853.535868890758]\n",
      "[Epoch 45/50] [VAE loss: 3854.152193960096]\n",
      "[Epoch 46/50] [VAE loss: 3851.227716311717]\n",
      "[Epoch 47/50] [VAE loss: 3848.785498775653]\n",
      "[Epoch 48/50] [VAE loss: 3849.8189077804336]\n",
      "[Epoch 49/50] [VAE loss: 3845.5034773121]\n"
     ]
    }
   ],
   "source": [
    "# The VAE architecture consists of an encoder with two fully connected layers and a decoder with two fully connected layers. \n",
    "# The encoder outputs the mean and log variance of the latent variable, which are used to compute the KL divergence loss term. The decoder is used to reconstruct the input image from the sampled latent variable. The `reparameterize` function is used to sample from the latent variable using the mean and log variance. The `vae_loss` function computes the VAE loss, which is the sum of the mean squared error loss and the KL divergence loss. The VAE is trained using the Adam optimizer with a learning rate of 0.001 for both the encoder and decoder. The VAE is trained for 50 epochs, and the final model weights are saved to a file called 'vae_final_weights.pth'.\n",
    "import torch\n",
    "import torch.nn as nn\n",
    "import torch.nn.functional as F\n",
    "import torch.optim as optim\n",
    "import torchvision.datasets as dsets\n",
    "import torchvision.transforms as transforms\n",
    "from torch.utils.data import DataLoader\n",
    "\n",
    "# Define the VAE architecture\n",
    "class Encoder(nn.Module):\n",
    "    def __init__(self):\n",
    "        super(Encoder, self).__init__()\n",
    "        self.fc1 = nn.Linear(784, 512)\n",
    "        self.fc21 = nn.Linear(512, 20)\n",
    "        self.fc22 = nn.Linear(512, 20)\n",
    "\n",
    "    def forward(self, x):\n",
    "        x = x.view(-1, 784)\n",
    "        x = F.relu(self.fc1(x))\n",
    "        mu = self.fc21(x)\n",
    "        logvar = self.fc22(x)\n",
    "        return mu, logvar\n",
    "\n",
    "class Decoder(nn.Module):\n",
    "    def __init__(self):\n",
    "        super(Decoder, self).__init__()\n",
    "        self.fc1 = nn.Linear(20, 512)\n",
    "        self.fc2 = nn.Linear(512, 784)\n",
    "\n",
    "    def forward(self, z):\n",
    "        z = F.relu(self.fc1(z))\n",
    "        x_hat = torch.tanh(self.fc2(z))\n",
    "        return x_hat\n",
    "\n",
    "class VAE(nn.Module):\n",
    "    def __init__(self):\n",
    "        super(VAE, self).__init__()\n",
    "        self.encoder = Encoder()\n",
    "        self.decoder = Decoder()\n",
    "\n",
    "    def reparameterize(self, mu, logvar):\n",
    "        std = torch.exp(0.5 * logvar)\n",
    "        eps = torch.randn_like(std)\n",
    "        return mu + eps * std\n",
    "\n",
    "    def forward(self, x):\n",
    "        mu, logvar = self.encoder(x)\n",
    "        z = self.reparameterize(mu, logvar)\n",
    "        x_hat = self.decoder(z)\n",
    "        return x_hat, mu, logvar\n",
    "\n",
    "def vae_loss(x_hat, x, mu, logvar):\n",
    "    mse_loss = F.mse_loss(x_hat, x.view(-1, 784), reduction='sum')\n",
    "    kl_loss = -0.5 * torch.sum(1 + logvar - mu.pow(2) - logvar.exp())\n",
    "    return mse_loss + kl_loss\n",
    "\n",
    "# Set device to GPU if available, otherwise use CPU\n",
    "device = torch.device('cuda' if torch.cuda.is_available() else 'cpu')\n",
    "\n",
    "# Define transform to normalize the data\n",
    "transform = transforms.Compose([\n",
    "    transforms.ToTensor(),\n",
    "    transforms.Normalize(mean=(0.5,), std=(0.5,))\n",
    "])\n",
    "\n",
    "# Load Fashion MNIST dataset\n",
    "train_dataset = dsets.FashionMNIST(root='./data', train=True, transform=transform, download=True)\n",
    "train_loader = DataLoader(train_dataset, batch_size=64, shuffle=True)\n",
    "\n",
    "# Define the VAE model, optimizer, and loss function\n",
    "vae = VAE().to(device)\n",
    "optimizer_E = optim.Adam(vae.encoder.parameters(), lr=0.001)\n",
    "optimizer_D = optim.Adam(vae.decoder.parameters(), lr=0.001)\n",
    "\n",
    "# Train the VAE model\n",
    "num_epochs = 50\n",
    "vae_losses = []\n",
    "for epoch in range(num_epochs):\n",
    "    vae_loss_epoch = 0.0\n",
    "    for i, (imgs, _) in enumerate(train_loader):\n",
    "        optimizer_E.zero_grad()\n",
    "        optimizer_D.zero_grad()\n",
    "        x = imgs.to(device)\n",
    "\n",
    "        # Forward pass\n",
    "        x_hat, mu, logvar = vae(x)\n",
    "\n",
    "        # Compute loss\n",
    "        loss = vae_loss(x_hat, x, mu, logvar)\n",
    "\n",
    "        # Backward pass and optimize\n",
    "        loss.backward()\n",
    "        optimizer_E.step()\n",
    "        optimizer_D.step()\n",
    "\n",
    "        # Update epoch loss\n",
    "        vae_loss_epoch += loss.item()\n",
    "\n",
    "    # Compute average loss for epoch\n",
    "    vae_loss_epoch /= len(train_loader)\n",
    "\n",
    "    # Append loss to list\n",
    "    vae_losses.append(vae_loss_epoch)\n",
    "\n",
    "    # Print training progress\n",
    "    print(f\"[Epoch {epoch}/{num_epochs}] [VAE loss: {vae_loss_epoch}]\")\n",
    "\n",
    "# Save final model weights into 'vae_weights' folder\n",
    "torch.save({\n",
    "    'encoder': vae.encoder.state_dict(),\n",
    "    'decoder': vae.decoder.state_dict(),\n",
    "    'optimizer_E': optimizer_E.state_dict(),\n",
    "    'optimizer_D': optimizer_D.state_dict(),\n",
    "}, 'vae_final_weights.pth')\n",
    "\n"
   ]
  },
  {
   "cell_type": "markdown",
   "metadata": {},
   "source": [
    "## 2.2 GAN loss plot"
   ]
  },
  {
   "cell_type": "code",
   "execution_count": 4,
   "metadata": {
    "execution": {
     "iopub.execute_input": "2023-05-08T12:08:05.222649Z",
     "iopub.status.busy": "2023-05-08T12:08:05.222117Z",
     "iopub.status.idle": "2023-05-08T12:08:05.457473Z",
     "shell.execute_reply": "2023-05-08T12:08:05.456507Z",
     "shell.execute_reply.started": "2023-05-08T12:08:05.222616Z"
    }
   },
   "outputs": [
    {
     "data": {
      "image/png": "[encoded data removed]",
      "text/plain": [
       "<Figure size 640x480 with 1 Axes>"
      ]
     },
     "metadata": {},
     "output_type": "display_data"
    }
   ],
   "source": [
    "# Plot VAN losses\n",
    "import matplotlib.pyplot as plt\n",
    "\n",
    "plt.plot(range(num_epochs), vae_losses, label='VAE loss')\n",
    "plt.legend()\n",
    "plt.xlabel('Epoch')\n",
    "plt.ylabel('Loss')\n",
    "plt.show()"
   ]
  },
  {
   "cell_type": "code",
   "execution_count": null,
   "metadata": {
    "execution": {
     "iopub.status.busy": "2023-05-08T05:08:24.951728Z",
     "iopub.status.idle": "2023-05-08T05:08:24.953346Z",
     "shell.execute_reply": "2023-05-08T05:08:24.953134Z",
     "shell.execute_reply.started": "2023-05-08T05:08:24.953111Z"
    }
   },
   "outputs": [],
   "source": [
    "# To improve model we can do the following:\n",
    "# 1) Increase batch size\n",
    "# 2) Train G, not D"
   ]
  },
  {
   "cell_type": "markdown",
   "metadata": {},
   "source": [
    "## 2.3 Using VAE, generate a sample of 25 fake images and plot the corresponding images"
   ]
  },
  {
   "cell_type": "code",
   "execution_count": 4,
   "metadata": {
    "execution": {
     "iopub.execute_input": "2023-05-08T15:35:55.587411Z",
     "iopub.status.busy": "2023-05-08T15:35:55.586991Z",
     "iopub.status.idle": "2023-05-08T15:35:56.278993Z",
     "shell.execute_reply": "2023-05-08T15:35:56.278024Z",
     "shell.execute_reply.started": "2023-05-08T15:35:55.587378Z"
    }
   },
   "outputs": [
    {
     "data": {
      "image/png": "[encoded data removed]",
      "text/plain": [
       "<Figure size 800x800 with 25 Axes>"
      ]
     },
     "metadata": {},
     "output_type": "display_data"
    }
   ],
   "source": [
    "# Plot for VAE\n",
    "# In this code, we first load the saved model weights into a new instance of the VAE model. \n",
    "# Then, we generate a sample of 25 fake images by sampling from the latent space using `torch.randn` and \n",
    "# passing the resulting tensor through the VAE decoder. \n",
    "# We convert the fake images to numpy arrays, rescale them from [-1, 1] to [0, 1], and then \n",
    "# plot them using matplotlib. The resulting plot shows 25 generated images in a 5x5 grid.\n",
    "\n",
    "import matplotlib.pyplot as plt\n",
    "import numpy as np\n",
    "\n",
    "# Load the saved model weights\n",
    "checkpoint = torch.load('vae_final_weights.pth')\n",
    "vae = VAE().to(device)\n",
    "vae.encoder.load_state_dict(checkpoint['encoder'])\n",
    "vae.decoder.load_state_dict(checkpoint['decoder'])\n",
    "\n",
    "# Generate a sample of 25 fake images\n",
    "with torch.no_grad():\n",
    "    z = torch.randn(25, 20).to(device)\n",
    "    fake_imgs = vae.decoder(z)\n",
    "\n",
    "# Convert the fake images to numpy arrays\n",
    "fake_imgs = fake_imgs.cpu().numpy()\n",
    "\n",
    "# Rescale the fake images from [-1, 1] to [0, 1]\n",
    "fake_imgs = (fake_imgs + 1) / 2\n",
    "\n",
    "# Plot the fake images\n",
    "fig, axs = plt.subplots(5, 5, figsize=(8, 8))\n",
    "for i in range(5):\n",
    "    for j in range(5):\n",
    "        axs[i, j].imshow(fake_imgs[i*5+j].reshape((28, 28)), cmap='gray')\n",
    "        axs[i, j].axis('off')\n",
    "plt.show()\n"
   ]
  },
  {
   "cell_type": "code",
   "execution_count": 1,
   "metadata": {
    "execution": {
     "iopub.execute_input": "2023-05-08T17:38:07.466454Z",
     "iopub.status.busy": "2023-05-08T17:38:07.465908Z",
     "iopub.status.idle": "2023-05-08T17:38:07.472835Z",
     "shell.execute_reply": "2023-05-08T17:38:07.471508Z",
     "shell.execute_reply.started": "2023-05-08T17:38:07.466419Z"
    }
   },
   "outputs": [],
   "source": [
    "# VAE generated much better images than GAN.\n",
    "## GAN is more difficult to train and takes longer because it is adversarial, there is the generator and discriminator.\n",
    "## Overall, I would say that both GAN and VAE are powerful. But it may be hard to get hyperparameters right for the GAN model."
   ]
  },
  {
   "cell_type": "code",
   "execution_count": null,
   "metadata": {},
   "outputs": [],
   "source": []
  }
 ],
 "metadata": {
  "kernelspec": {
   "display_name": "Python 3 (ipykernel)",
   "language": "python",
   "name": "python3"
  },
  "language_info": {
   "codemirror_mode": {
    "name": "ipython",
    "version": 3
   },
   "file_extension": ".py",
   "mimetype": "text/x-python",
   "name": "python",
   "nbconvert_exporter": "python",
   "pygments_lexer": "ipython3",
   "version": "3.9.12"
  },
  "vp": {
   "vp_config_version": "1.0.0",
   "vp_menu_width": 273,
   "vp_note_display": false,
   "vp_note_width": 0,
   "vp_position": {
    "width": 278
   },
   "vp_section_display": false,
   "vp_signature": "VisualPython"
  }
 },
 "nbformat": 4,
 "nbformat_minor": 4
}
